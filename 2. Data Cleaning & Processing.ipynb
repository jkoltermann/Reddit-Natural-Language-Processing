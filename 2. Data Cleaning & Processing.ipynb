{
 "cells": [
  {
   "cell_type": "code",
   "execution_count": 1,
   "id": "4fab6380-1222-4ff6-b45e-f7f730e48469",
   "metadata": {},
   "outputs": [],
   "source": [
    "import pandas as pd\n",
    "import numpy as np\n",
    "import re\n",
    "from nltk.stem import WordNetLemmatizer\n",
    "import matplotlib.pyplot as plt\n",
    "import seaborn as sns\n",
    "import unicodedata\n",
    "import emoji\n",
    "from html import unescape"
   ]
  },
  {
   "cell_type": "code",
   "execution_count": 2,
   "id": "0fe47f5d-0c2d-4568-aeb2-6ae4454e7974",
   "metadata": {},
   "outputs": [],
   "source": [
    "class Dataset:\n",
    "    \n",
    "    def __init__(self,pos_location, neg_location):\n",
    "        #pos_location is the classified 1 output, so the output of the model will predict whether or not it is the positive category\n",
    "        self.pos_data = pd.read_csv('./Data/'+ pos_location)\n",
    "        self.pos_data['is_class'] = [1 for x in self.pos_data.title]\n",
    "        \n",
    "        self.neg_data = pd.read_csv('./Data/'+ neg_location)\n",
    "        self.neg_data['is_class'] = [0 for x in self.neg_data.title]\n",
    "    \n",
    "    def combine_data(self, columns = ['title','selftext','is_class']):\n",
    "        self.pos_data = self.pos_data[columns]\n",
    "        self.neg_data = self.neg_data[columns]\n",
    "        \n",
    "        self.data = pd.concat([self.pos_data,self.neg_data],axis=0)\n",
    "        \n",
    "    def remove_rows(self, column, content):\n",
    "        self.data = self.data[self.data[column]!=content]\n",
    "        \n",
    "    def title_body_combine(self):\n",
    "        self.data['content'] = [str(x) + str(y) if str(y) != 'nan' else str(x) for x,y in zip(self.data.title,self.data.selftext)]\n",
    "        self.cleaned_data = self.data.drop(columns=['title','selftext'])\n",
    "\n",
    "    def clean_of_punc(self,column):\n",
    "        self.cleaned_data[column] = [re.sub(r'[^\\w\\s]', '', x) for x in self.cleaned_data[column]]\n",
    "        \n",
    "    def pre_vectorize(self):\n",
    "        return [x.split(' ') for x in self.cleaned_data.content]\n",
    "       \n",
    "    \n",
    "    def handle_emojis(self):\n",
    "        self.cleaned_data['content'] = [emoji.replace_emoji(x,'#EMOJI ') for x in self.cleaned_data.content]    \n",
    "            \n",
    "    def handle_numbers(self):\n",
    "        output = []\n",
    "        for post in self.cleaned_data.content:\n",
    "            fixed_post = str(post)\n",
    "            \n",
    "            numbers = re.findall(r'\\d+\\.?\\d*', fixed_post)\n",
    "            \n",
    "            for number in numbers:\n",
    "                fixed_post = fixed_post.replace(number,'#NUM ')\n",
    "            output.append(fixed_post)\n",
    "            \n",
    "        self.cleaned_data.content = output"
   ]
  },
  {
   "cell_type": "code",
   "execution_count": 3,
   "id": "27a7257f-e29a-432b-9b29-4d9ec833ead5",
   "metadata": {},
   "outputs": [
    {
     "name": "stderr",
     "output_type": "stream",
     "text": [
      "C:\\Users\\Jack Koltermann\\AppData\\Local\\Temp\\ipykernel_10308\\118902286.py:5: DtypeWarning: Columns (65,67,71,94,95,96,104,105,106,112,114,116,117,118,119,120,123,124,127) have mixed types. Specify dtype option on import or set low_memory=False.\n",
      "  self.pos_data = pd.read_csv('./Data/'+ pos_location)\n"
     ]
    }
   ],
   "source": [
    "sci_pred = Dataset('Space.csv','Science.csv')"
   ]
  },
  {
   "cell_type": "code",
   "execution_count": 4,
   "id": "cab7efdd-30e3-444d-b5ce-5c544625f4b3",
   "metadata": {},
   "outputs": [],
   "source": [
    "sci_pred.combine_data()"
   ]
  },
  {
   "cell_type": "code",
   "execution_count": 5,
   "id": "c23f99ab-2da0-4253-9edf-3b47d055827e",
   "metadata": {},
   "outputs": [],
   "source": [
    "sci_pred.remove_rows('selftext','[removed]')"
   ]
  },
  {
   "cell_type": "code",
   "execution_count": 6,
   "id": "74ce2eb6-e6df-4e1f-b535-25aa32de1222",
   "metadata": {},
   "outputs": [],
   "source": [
    "sci_pred.remove_rows('selftext','[deleted]')"
   ]
  },
  {
   "cell_type": "code",
   "execution_count": 7,
   "id": "e4aa0e2b-6350-4d98-b0fe-7d222eaeeb86",
   "metadata": {},
   "outputs": [],
   "source": [
    "sci_pred.title_body_combine()"
   ]
  },
  {
   "cell_type": "code",
   "execution_count": 8,
   "id": "3df8e786-a977-4686-bf2c-d5b04cc0cb22",
   "metadata": {},
   "outputs": [
    {
     "data": {
      "text/plain": [
       "is_class    0\n",
       "content     0\n",
       "dtype: int64"
      ]
     },
     "execution_count": 8,
     "metadata": {},
     "output_type": "execute_result"
    }
   ],
   "source": [
    "sci_pred.cleaned_data.isnull().sum()"
   ]
  },
  {
   "cell_type": "code",
   "execution_count": 9,
   "id": "5ec29b48-6187-473b-94ea-f6ea6adade01",
   "metadata": {},
   "outputs": [],
   "source": [
    "sci_pred.cleaned_data = sci_pred.cleaned_data.reset_index(drop=True)"
   ]
  },
  {
   "cell_type": "markdown",
   "id": "ba9919e8-2a5b-4ec3-8b4b-04e340f6b009",
   "metadata": {},
   "source": [
    "### Additional cleaning tactics"
   ]
  },
  {
   "cell_type": "markdown",
   "id": "5611782a-17e7-4491-9fd3-c4b466342fc5",
   "metadata": {},
   "source": [
    "#### Unescape html chars"
   ]
  },
  {
   "cell_type": "code",
   "execution_count": 10,
   "id": "d1a1cc92-78e3-41e5-ae15-728f5554004d",
   "metadata": {},
   "outputs": [],
   "source": [
    "sci_pred.cleaned_data['content'] = sci_pred.cleaned_data['content'].map(unescape)"
   ]
  },
  {
   "cell_type": "markdown",
   "id": "162cd0fd-311d-4bdd-9c44-514e5da09d60",
   "metadata": {},
   "source": [
    "#### Undercasing all words prior to vectorizing"
   ]
  },
  {
   "cell_type": "code",
   "execution_count": 11,
   "id": "51a9e440-9b3d-44cb-843b-934e81c36595",
   "metadata": {},
   "outputs": [],
   "source": [
    "sci_pred.cleaned_data['content'] = [x.lower() for x in sci_pred.cleaned_data['content']]"
   ]
  },
  {
   "cell_type": "markdown",
   "id": "6e4b565d-f544-4bfb-8601-4fccede7a8e2",
   "metadata": {},
   "source": [
    "#### Group all Emojis"
   ]
  },
  {
   "cell_type": "code",
   "execution_count": 12,
   "id": "1dd3d93e-0fbd-4808-b544-5ad6d223ba74",
   "metadata": {},
   "outputs": [],
   "source": [
    "sci_pred.handle_emojis()"
   ]
  },
  {
   "cell_type": "markdown",
   "id": "99f063e7-0f9c-483d-a3fc-ed31de1092fd",
   "metadata": {},
   "source": [
    "#### Group all Numbers"
   ]
  },
  {
   "cell_type": "code",
   "execution_count": 13,
   "id": "c83c896b-1286-48cc-ac0b-c03d685043f7",
   "metadata": {},
   "outputs": [],
   "source": [
    "sci_pred.handle_numbers()"
   ]
  },
  {
   "cell_type": "markdown",
   "id": "71cd0796-fa85-449a-8027-d0e016547e4a",
   "metadata": {},
   "source": [
    "#### Drop Duplicates"
   ]
  },
  {
   "cell_type": "code",
   "execution_count": 14,
   "id": "19dcab87-e990-467b-8c45-4af7a3ded669",
   "metadata": {},
   "outputs": [],
   "source": [
    "sci_pred.cleaned_data = sci_pred.cleaned_data.drop_duplicates()"
   ]
  },
  {
   "cell_type": "markdown",
   "id": "a8228eca-7659-4ebc-b88d-016c52f0c903",
   "metadata": {},
   "source": [
    "#### Strip Excess Spaces"
   ]
  },
  {
   "cell_type": "code",
   "execution_count": 15,
   "id": "2699905c-111c-4c80-aa8f-485af0a4fd0d",
   "metadata": {},
   "outputs": [],
   "source": [
    "sci_pred.cleaned_data.content = [x.strip() for x in sci_pred.cleaned_data.content]"
   ]
  },
  {
   "cell_type": "code",
   "execution_count": 16,
   "id": "5ef40afb-67bf-4888-a31b-4f3c01ef5a08",
   "metadata": {
    "tags": []
   },
   "outputs": [],
   "source": [
    "#sci_pred.pre_vectorize()"
   ]
  },
  {
   "cell_type": "markdown",
   "id": "c05b6fd3-3c4f-4ac3-9e4a-77caea1b24cd",
   "metadata": {},
   "source": [
    "### Lemmetizing"
   ]
  },
  {
   "cell_type": "code",
   "execution_count": 17,
   "id": "120efdd5-1838-401f-9581-df43df401bec",
   "metadata": {},
   "outputs": [],
   "source": [
    "sci_pred.cleaned_data['content'] = sci_pred.cleaned_data['content'].map(WordNetLemmatizer().lemmatize)"
   ]
  },
  {
   "cell_type": "markdown",
   "id": "bbdd7ca3-252d-490c-9d86-ac811fe1bc0c",
   "metadata": {},
   "source": [
    "### Analysis for EDA"
   ]
  },
  {
   "cell_type": "code",
   "execution_count": 18,
   "id": "51d817aa-48cb-4bc7-b82e-34839d23627b",
   "metadata": {},
   "outputs": [],
   "source": [
    "sci_pred.cleaned_data['word_count'] = [len(x.split(' ')) for x in sci_pred.cleaned_data['content']]"
   ]
  },
  {
   "cell_type": "code",
   "execution_count": 19,
   "id": "2f7fe882-da10-4bed-87c9-15447679760c",
   "metadata": {},
   "outputs": [],
   "source": [
    "sci_pred.cleaned_data['char_count'] = [len(x) for x in sci_pred.cleaned_data['content']]"
   ]
  },
  {
   "cell_type": "code",
   "execution_count": 20,
   "id": "bb3a1ad3-fd05-4252-8660-e2c08701eeea",
   "metadata": {},
   "outputs": [],
   "source": [
    "sci_pred.cleaned_data.to_csv('./Data/Post_Data.csv') #Saving Down"
   ]
  },
  {
   "cell_type": "markdown",
   "id": "778ee185-525b-4fbb-ba06-d359ae26875a",
   "metadata": {},
   "source": [
    "### EDA Charts\n",
    "- Please note that further analysis is conducted on jupyter '3. Model Building,' as vectorization assists greatly with EDA"
   ]
  },
  {
   "cell_type": "code",
   "execution_count": 54,
   "id": "8fc44a40-884a-497b-b13f-322c61caab6e",
   "metadata": {},
   "outputs": [
    {
     "data": {
      "text/plain": [
       "<matplotlib.legend.Legend at 0x22c0a18d550>"
      ]
     },
     "execution_count": 54,
     "metadata": {},
     "output_type": "execute_result"
    },
    {
     "data": {
      "image/png": "[encoded data removed]",
      "text/plain": [
       "<Figure size 563.486x500 with 1 Axes>"
      ]
     },
     "metadata": {},
     "output_type": "display_data"
    }
   ],
   "source": [
    "sns.displot(data = sci_pred.cleaned_data, \n",
    "            x = 'word_count', \n",
    "            hue = 'is_class');\n",
    "plt.title('Subreddit Word_counts')\n",
    "plt.gca().set_xlim(0, 200)\n",
    "plt.legend([\"Is r/space subreddit\", \"Is r/science subreddit\"], fontsize=12, loc=\"upper left\", bbox_to_anchor=(1,1))"
   ]
  },
  {
   "cell_type": "code",
   "execution_count": 22,
   "id": "07cdd4f7-8e5f-4879-a96d-9b2aa76c19b3",
   "metadata": {},
   "outputs": [
    {
     "data": {
      "text/plain": [
       "<matplotlib.legend.Legend at 0x22c03400910>"
      ]
     },
     "execution_count": 22,
     "metadata": {},
     "output_type": "execute_result"
    },
    {
     "data": {
      "image/png": "[encoded data removed]",
      "text/plain": [
       "<Figure size 563.486x500 with 1 Axes>"
      ]
     },
     "metadata": {},
     "output_type": "display_data"
    }
   ],
   "source": [
    "sns.displot(data = sci_pred.cleaned_data, \n",
    "            x = 'char_count', \n",
    "            hue = 'is_class');\n",
    "plt.gca().set_xlim(0, 1200)\n",
    "plt.legend([\"Is r/space subreddit\", \"Is r/science subreddit\"], fontsize=12, loc=\"upper left\", bbox_to_anchor=(1,1))"
   ]
  },
  {
   "cell_type": "code",
   "execution_count": 23,
   "id": "dfb4e642-0073-42d2-91ec-1efb9ec8bcf6",
   "metadata": {},
   "outputs": [
    {
     "data": {
      "text/html": [
       "<div>\n",
       "<style scoped>\n",
       "    .dataframe tbody tr th:only-of-type {\n",
       "        vertical-align: middle;\n",
       "    }\n",
       "\n",
       "    .dataframe tbody tr th {\n",
       "        vertical-align: top;\n",
       "    }\n",
       "\n",
       "    .dataframe thead th {\n",
       "        text-align: right;\n",
       "    }\n",
       "</style>\n",
       "<table border=\"1\" class=\"dataframe\">\n",
       "  <thead>\n",
       "    <tr style=\"text-align: right;\">\n",
       "      <th></th>\n",
       "      <th>is_class</th>\n",
       "      <th>content</th>\n",
       "      <th>word_count</th>\n",
       "      <th>char_count</th>\n",
       "    </tr>\n",
       "  </thead>\n",
       "  <tbody>\n",
       "    <tr>\n",
       "      <th>0</th>\n",
       "      <td>1</td>\n",
       "      <td>the oldest known earth rock was found on the m...</td>\n",
       "      <td>18</td>\n",
       "      <td>96</td>\n",
       "    </tr>\n",
       "    <tr>\n",
       "      <th>1</th>\n",
       "      <td>1</td>\n",
       "      <td>not the best quality- meteor streaks between m...</td>\n",
       "      <td>15</td>\n",
       "      <td>86</td>\n",
       "    </tr>\n",
       "    <tr>\n",
       "      <th>2</th>\n",
       "      <td>1</td>\n",
       "      <td>the moon, saturn and jupiter through my #NUM \"...</td>\n",
       "      <td>12</td>\n",
       "      <td>71</td>\n",
       "    </tr>\n",
       "    <tr>\n",
       "      <th>3</th>\n",
       "      <td>1</td>\n",
       "      <td>my boring life</td>\n",
       "      <td>3</td>\n",
       "      <td>14</td>\n",
       "    </tr>\n",
       "    <tr>\n",
       "      <th>4</th>\n",
       "      <td>1</td>\n",
       "      <td>my conjoined camera setup for infrared photogr...</td>\n",
       "      <td>16</td>\n",
       "      <td>114</td>\n",
       "    </tr>\n",
       "    <tr>\n",
       "      <th>...</th>\n",
       "      <td>...</td>\n",
       "      <td>...</td>\n",
       "      <td>...</td>\n",
       "      <td>...</td>\n",
       "    </tr>\n",
       "    <tr>\n",
       "      <th>7797</th>\n",
       "      <td>0</td>\n",
       "      <td>understanding international variations in kidn...</td>\n",
       "      <td>12</td>\n",
       "      <td>104</td>\n",
       "    </tr>\n",
       "    <tr>\n",
       "      <th>7798</th>\n",
       "      <td>0</td>\n",
       "      <td>study by the environmental working group (ewg)...</td>\n",
       "      <td>29</td>\n",
       "      <td>186</td>\n",
       "    </tr>\n",
       "    <tr>\n",
       "      <th>7799</th>\n",
       "      <td>0</td>\n",
       "      <td>covid vaccine hoarding might have cost more th...</td>\n",
       "      <td>11</td>\n",
       "      <td>64</td>\n",
       "    </tr>\n",
       "    <tr>\n",
       "      <th>7800</th>\n",
       "      <td>0</td>\n",
       "      <td>single synthetic ‘magic mushroom’ dose improve...</td>\n",
       "      <td>11</td>\n",
       "      <td>79</td>\n",
       "    </tr>\n",
       "    <tr>\n",
       "      <th>7801</th>\n",
       "      <td>0</td>\n",
       "      <td>a systematic review of the link between autism...</td>\n",
       "      <td>16</td>\n",
       "      <td>104</td>\n",
       "    </tr>\n",
       "  </tbody>\n",
       "</table>\n",
       "<p>7324 rows × 4 columns</p>\n",
       "</div>"
      ],
      "text/plain": [
       "      is_class                                            content  word_count  \\\n",
       "0            1  the oldest known earth rock was found on the m...          18   \n",
       "1            1  not the best quality- meteor streaks between m...          15   \n",
       "2            1  the moon, saturn and jupiter through my #NUM \"...          12   \n",
       "3            1                                     my boring life           3   \n",
       "4            1  my conjoined camera setup for infrared photogr...          16   \n",
       "...        ...                                                ...         ...   \n",
       "7797         0  understanding international variations in kidn...          12   \n",
       "7798         0  study by the environmental working group (ewg)...          29   \n",
       "7799         0  covid vaccine hoarding might have cost more th...          11   \n",
       "7800         0  single synthetic ‘magic mushroom’ dose improve...          11   \n",
       "7801         0  a systematic review of the link between autism...          16   \n",
       "\n",
       "      char_count  \n",
       "0             96  \n",
       "1             86  \n",
       "2             71  \n",
       "3             14  \n",
       "4            114  \n",
       "...          ...  \n",
       "7797         104  \n",
       "7798         186  \n",
       "7799          64  \n",
       "7800          79  \n",
       "7801         104  \n",
       "\n",
       "[7324 rows x 4 columns]"
      ]
     },
     "execution_count": 23,
     "metadata": {},
     "output_type": "execute_result"
    }
   ],
   "source": [
    "sci_pred.cleaned_data"
   ]
  },
  {
   "cell_type": "code",
   "execution_count": 30,
   "id": "2c8c31c6-d74d-4aee-9eef-e168a18cc8f4",
   "metadata": {},
   "outputs": [],
   "source": [
    "import re\n",
    "\n",
    "def count_non_english_words(df, column):\n",
    "    non_english_count = 0\n",
    "    \n",
    "    for index, row in df[column].iteritems():\n",
    "        # Use a regular expression to search for non-English words\n",
    "        match = re.search(r'[^\\x00-\\x7F]', row)\n",
    "        if match:\n",
    "            non_english_count += 1\n",
    "            \n",
    "    return non_english_count\n"
   ]
  },
  {
   "cell_type": "code",
   "execution_count": 36,
   "id": "022356e9-995e-47e0-bc61-9f15f07e653a",
   "metadata": {},
   "outputs": [],
   "source": [
    "space_count_nonenglish = count_non_english_words(sci_pred.cleaned_data[sci_pred.cleaned_data['is_class']==1],'content')/sci_pred.cleaned_data[sci_pred.cleaned_data['is_class']==1].shape[0]"
   ]
  },
  {
   "cell_type": "code",
   "execution_count": 37,
   "id": "f96a2037-c934-4bc9-9d3e-46d60d499514",
   "metadata": {},
   "outputs": [],
   "source": [
    "sci_count_nonenglish = count_non_english_words(sci_pred.cleaned_data[sci_pred.cleaned_data['is_class']==0],'content')/sci_pred.cleaned_data[sci_pred.cleaned_data['is_class']==0].shape[0]"
   ]
  },
  {
   "cell_type": "code",
   "execution_count": 53,
   "id": "0715a825-55ee-454a-b10a-83385e493c75",
   "metadata": {},
   "outputs": [
    {
     "data": {
      "text/plain": [
       "<BarContainer object of 2 artists>"
      ]
     },
     "execution_count": 53,
     "metadata": {},
     "output_type": "execute_result"
    },
    {
     "data": {
      "image/png": "[encoded data removed]",
      "text/plain": [
       "<Figure size 640x480 with 1 Axes>"
      ]
     },
     "metadata": {},
     "output_type": "display_data"
    }
   ],
   "source": [
    "plt.ylim(0,1)\n",
    "plt.title('% of sentences with non-english words')\n",
    "plt.bar(['space_count_nonenglish', 'sci_count_nonenglish'] ,[space_count_nonenglish, sci_count_nonenglish] )"
   ]
  },
  {
   "cell_type": "code",
   "execution_count": null,
   "id": "22e9b0e9-db2a-42eb-b5a9-c61ff6a0c474",
   "metadata": {},
   "outputs": [],
   "source": []
  }
 ],
 "metadata": {
  "kernelspec": {
   "display_name": "Python 3 (ipykernel)",
   "language": "python",
   "name": "python3"
  },
  "language_info": {
   "codemirror_mode": {
    "name": "ipython",
    "version": 3
   },
   "file_extension": ".py",
   "mimetype": "text/x-python",
   "name": "python",
   "nbconvert_exporter": "python",
   "pygments_lexer": "ipython3",
   "version": "3.9.13"
  }
 },
 "nbformat": 4,
 "nbformat_minor": 5
}
